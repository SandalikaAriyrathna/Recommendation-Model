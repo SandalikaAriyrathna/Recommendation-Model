{
  "nbformat": 4,
  "nbformat_minor": 0,
  "metadata": {
    "colab": {
      "provenance": [],
      "gpuType": "T4"
    },
    "kernelspec": {
      "name": "python3",
      "display_name": "Python 3"
    },
    "language_info": {
      "name": "python"
    },
    "accelerator": "GPU"
  },
  "cells": [
    {
      "cell_type": "code",
      "execution_count": 4,
      "metadata": {
        "colab": {
          "base_uri": "https://localhost:8080/"
        },
        "id": "1LRnp_bVs6RZ",
        "outputId": "94be41c4-1c20-4dcd-c53c-8954769c43f0"
      },
      "outputs": [
        {
          "output_type": "stream",
          "name": "stdout",
          "text": [
            "Mounted at /content/drive\n"
          ]
        }
      ],
      "source": [
        "from google.colab import drive\n",
        "drive.mount('/content/drive')"
      ]
    },
    {
      "cell_type": "code",
      "source": [
        "import pandas as pd\n",
        "\n",
        "# Step 1.1: Load the dataset into a pandas DataFrame\n",
        "data = pd.read_csv('/content/drive/MyDrive/recommendation/multi-category-dataset-recommendation.csv')\n",
        "df = data.dropna()\n",
        "\n",
        "# Step 1.2: Extract relevant columns\n",
        "columns_to_keep = ['user_id', 'category_code', 'event_type', 'event_time', 'brand', 'price', 'age', 'gender', 'location']\n",
        "df = data[columns_to_keep].copy()\n",
        "\n",
        "# Step 1.3: Split \"category_code\" into \"category\" and \"product_name\" using .loc to explicitly modify the original DataFrame\n",
        "split_category = df['category_code'].str.split('.', 1, expand=True)\n",
        "df['category'] = split_category[0]\n",
        "df['product_name'] = split_category[1]\n",
        "\n",
        "# Step 1.4: Handle missing data (fill with defaults or perform imputation)\n",
        "# Example: Filling missing values in 'age' with the mean age\n",
        "df['age'].fillna(df['age'].mean(), inplace=True)\n",
        "\n",
        "# Step 1.5: Convert \"event_time\" to datetime format using .loc to explicitly modify the original DataFrame\n",
        "df['event_time'] = pd.to_datetime(df['event_time'], format='%Y-%m-%d %H:%M:%S %Z', utc=True)\n",
        "\n",
        "# Display the first few rows of the preprocessed DataFrame\n",
        "print(df.head())"
      ],
      "metadata": {
        "colab": {
          "base_uri": "https://localhost:8080/"
        },
        "id": "UXQyjAnftdvM",
        "outputId": "bb271d54-cdb7-4933-fd14-cc91e596d8e3"
      },
      "execution_count": 79,
      "outputs": [
        {
          "output_type": "stream",
          "name": "stderr",
          "text": [
            "<ipython-input-79-5fa3c9683a6a>:12: FutureWarning: In a future version of pandas all arguments of StringMethods.split except for the argument 'pat' will be keyword-only.\n",
            "  split_category = df['category_code'].str.split('.', 1, expand=True)\n"
          ]
        },
        {
          "output_type": "stream",
          "name": "stdout",
          "text": [
            "     user_id              category_code event_type                event_time  \\\n",
            "0  520088904     electronics.smartphone       view 2019-11-01 00:00:00+00:00   \n",
            "1  530496790  appliances.sewing_machine       view 2019-11-01 00:00:00+00:00   \n",
            "2  561587266                        NaN       view 2019-11-01 00:00:01+00:00   \n",
            "3  518085591  appliances.kitchen.washer       view 2019-11-01 00:00:01+00:00   \n",
            "4  558856683     electronics.smartphone       view 2019-11-01 00:00:01+00:00   \n",
            "\n",
            "    brand   price  age gender       location     category    product_name  \n",
            "0  xiaomi  489.07   20      M       Northern  electronics      smartphone  \n",
            "1  janome  293.65   25      M        Central   appliances  sewing_machine  \n",
            "2   creed   28.31   20      F  North Central          NaN             NaN  \n",
            "3      lg  712.87   18      M   Sabaragamuwa   appliances  kitchen.washer  \n",
            "4  xiaomi  183.27   53      M        Eastern  electronics      smartphone  \n"
          ]
        }
      ]
    },
    {
      "cell_type": "code",
      "source": [
        "# Step 2.1: Create user profiles by aggregating user-specific data (age, gender, location)\n",
        "user_profiles = df.groupby('user_id').agg({\n",
        "    'age': 'mean',\n",
        "    'gender': 'first',\n",
        "    'location': 'first'\n",
        "}).reset_index()\n",
        "\n",
        "# Step 2.2: Calculate user preferences based on historical interactions\n",
        "# Example: Calculate the total number of views, cart additions, and purchases for each user\n",
        "user_interactions = df[df['event_type'].isin(['view', 'cart', 'purchase'])].groupby('user_id').agg({\n",
        "    'event_type': 'count'\n",
        "}).reset_index()\n",
        "\n",
        "user_interactions.rename(columns={'event_type': 'total_interactions'}, inplace=True)\n",
        "\n",
        "# Merge user profiles and interactions\n",
        "user_data = pd.merge(user_profiles, user_interactions, on='user_id')\n",
        "\n",
        "# Display user data (user profiles and interactions)\n",
        "print(user_data.head())\n"
      ],
      "metadata": {
        "colab": {
          "base_uri": "https://localhost:8080/"
        },
        "id": "Lkoki82AvvDL",
        "outputId": "148e9299-fb1f-4e4f-cc24-9fcb09171e0f"
      },
      "execution_count": 80,
      "outputs": [
        {
          "output_type": "stream",
          "name": "stdout",
          "text": [
            "     user_id        age gender       location  total_interactions\n",
            "0  275256741  51.000000      F  North Western                   1\n",
            "1  295643776  45.875000      F   Sabaragamuwa                   8\n",
            "2  356520186  48.166667      F       Southern                   6\n",
            "3  384989212  21.000000      F   Sabaragamuwa                   1\n",
            "4  389979783  29.750000      M        Central                   4\n"
          ]
        }
      ]
    },
    {
      "cell_type": "code",
      "source": [
        "# Step 3.1: Create product profiles based on brand, category, and price\n",
        "product_profiles = df.groupby(['brand', 'category', 'product_name']).agg({\n",
        "    'price': ['mean', 'min', 'max', 'std', 'count']\n",
        "}).reset_index()\n",
        "\n",
        "# Flatten the column names to have a single level of column names\n",
        "product_profiles.columns = [' '.join(col).strip() for col in product_profiles.columns.values]\n",
        "\n",
        "# Rename columns for clarity\n",
        "product_profiles.rename(columns={\n",
        "    'price mean': 'avg_price',\n",
        "    'price min': 'min_price',\n",
        "    'price max': 'max_price',\n",
        "    'price std': 'price_std',\n",
        "    'price count': 'product_count'\n",
        "}, inplace=True)\n",
        "\n",
        "# Display product profiles\n",
        "print(product_profiles.head())\n"
      ],
      "metadata": {
        "colab": {
          "base_uri": "https://localhost:8080/"
        },
        "id": "bBPvfRZ_zBu-",
        "outputId": "9a8c84c4-ee4f-4437-b20f-d939d8003e04"
      },
      "execution_count": 81,
      "outputs": [
        {
          "output_type": "stream",
          "name": "stdout",
          "text": [
            "  brand     category         product_name   avg_price  min_price  max_price  \\\n",
            "0  acer  accessories                  bag   21.646000      12.07      36.01   \n",
            "1  acer    computers              desktop  919.270370     192.80    2574.04   \n",
            "2  acer    computers             notebook  593.541435     257.38    2312.80   \n",
            "3  acer    computers  peripherals.monitor  233.394433      66.67     725.63   \n",
            "4  acer  electronics               tablet  179.050625     159.33     194.08   \n",
            "\n",
            "    price_std  product_count  \n",
            "0   13.112478              5  \n",
            "1  768.397437            108  \n",
            "2  275.868713            676  \n",
            "3  139.816677             97  \n",
            "4   14.920438             16  \n"
          ]
        }
      ]
    },
    {
      "cell_type": "code",
      "source": [
        "!pip install scikit-surprise"
      ],
      "metadata": {
        "colab": {
          "base_uri": "https://localhost:8080/"
        },
        "id": "rjvdSUVsQvTH",
        "outputId": "b71d0234-d20c-418a-b653-730d0078d23b"
      },
      "execution_count": 82,
      "outputs": [
        {
          "output_type": "stream",
          "name": "stdout",
          "text": [
            "Requirement already satisfied: scikit-surprise in /usr/local/lib/python3.10/dist-packages (1.1.3)\n",
            "Requirement already satisfied: joblib>=1.0.0 in /usr/local/lib/python3.10/dist-packages (from scikit-surprise) (1.3.2)\n",
            "Requirement already satisfied: numpy>=1.17.3 in /usr/local/lib/python3.10/dist-packages (from scikit-surprise) (1.23.5)\n",
            "Requirement already satisfied: scipy>=1.3.2 in /usr/local/lib/python3.10/dist-packages (from scikit-surprise) (1.11.3)\n"
          ]
        }
      ]
    },
    {
      "cell_type": "code",
      "source": [
        "from surprise import Reader, Dataset, SVD, accuracy\n",
        "from surprise.model_selection import train_test_split\n",
        "\n",
        "# Map event types to numerical ratings\n",
        "event_type_mapping = {\n",
        "    'view': 1,   # Assign a numerical value for 'view'\n",
        "    'cart': 2,   # Assign a numerical value for 'cart'\n",
        "    'purchase': 3  # Assign a numerical value for 'purchase'\n",
        "}\n",
        "\n",
        "# Create a new column with numerical ratings\n",
        "df['event_type_rating'] = df['event_type'].map(event_type_mapping)\n",
        "\n",
        "# Load the preprocessed data into a Surprise dataset\n",
        "reader = Reader(rating_scale=(1, 3))  # Define the rating scale\n",
        "data = Dataset.load_from_df(df[['user_id', 'product_name', 'event_type_rating']], reader)\n",
        "\n",
        "# Split the dataset into train and test sets\n",
        "trainset, testset = train_test_split(data, test_size=0.2, random_state=42)\n",
        "\n",
        "# Choose a collaborative filtering algorithm (e.g., SVD)\n",
        "model = SVD()\n",
        "\n",
        "# Train the model on the training data\n",
        "model.fit(trainset)\n",
        "\n",
        "# Make predictions on the test data\n",
        "predictions = model.test(testset)\n",
        "\n",
        "# Evaluate the model (e.g., calculate RMSE, MAE, etc.)\n",
        "rmse = accuracy.rmse(predictions)\n",
        "mae = accuracy.mae(predictions)\n",
        "\n",
        "# Print the evaluation results\n",
        "print(f'RMSE: {rmse}') # Root Mean Square Error\n",
        "print(f'MAE: {mae}') # Mean Absolute Error\n",
        "\n",
        "# Define a function to get collaborative filtering recommendations for a user\n",
        "def collaborative_filtering_recommendation(user_id, num_recommendations=5):\n",
        "    # Create a list of all product names\n",
        "    all_product_names = df['product_name'].unique()\n",
        "\n",
        "    # Create a list of product names the user has already interacted with\n",
        "    interacted_product_names = df[(df['user_id'] == user_id) & (df['event_type'] == 'purchase')]['product_name'].values\n",
        "\n",
        "    # Exclude products the user has interacted with\n",
        "    candidate_product_names = [product_name for product_name in all_product_names if product_name not in interacted_product_names]\n",
        "\n",
        "    # Predict ratings for candidate products\n",
        "    user_ratings = [(user_id, product_name, model.predict(user_id, product_name).est) for product_name in candidate_product_names]\n",
        "\n",
        "    # Sort the products by predicted rating in descending order\n",
        "    user_ratings.sort(key=lambda x: x[2], reverse=True)\n",
        "\n",
        "    # Get the top N recommended products\n",
        "    top_n_recommendations = user_ratings[:num_recommendations]\n",
        "\n",
        "    return top_n_recommendations\n",
        "\n",
        "# Example: Get collaborative filtering recommendations for a specific user (change user_id as needed)\n",
        "user_id_to_recommend = 520088904  # Change this to the user you want to recommend for\n",
        "collaborative_recommendations = collaborative_filtering_recommendation(user_id_to_recommend)\n",
        "\n",
        "# Display collaborative filtering recommendations\n",
        "print(f\"Collaborative Filtering Recommendations for User {user_id_to_recommend}:\")\n",
        "for _, product_name, estimated_rating in collaborative_recommendations:\n",
        "    print(f\"Product Name: {product_name}, Estimated Rating: {estimated_rating}\")\n",
        "\n",
        "# Convert RMSE and MAE to percentages\n",
        "rmse_accuracy = 100 - (rmse * 100)\n",
        "mae_accuracy = 100 - (mae * 100)\n",
        "\n",
        "# Print the evaluation results as percentages\n",
        "print(f'RMSE Accuracy: {rmse_accuracy:.2f}%')\n",
        "print(f'MAE Accuracy: {mae_accuracy:.2f}%')\n"
      ],
      "metadata": {
        "colab": {
          "base_uri": "https://localhost:8080/"
        },
        "id": "Bkj2dTM8vXNA",
        "outputId": "34b43c45-de4c-48ea-b526-0ff9a23bd8f6"
      },
      "execution_count": 83,
      "outputs": [
        {
          "output_type": "stream",
          "name": "stdout",
          "text": [
            "RMSE: 0.2593\n",
            "MAE:  0.0594\n",
            "RMSE: 0.259261581755764\n",
            "MAE: 0.05936556088180202\n",
            "Collaborative Filtering Recommendations for User 520088904:\n",
            "Product Name: lawn_mower, Estimated Rating: 1.185808254763631\n",
            "Product Name: shoes.sandals, Estimated Rating: 1.1816389622965215\n",
            "Product Name: tools.painting, Estimated Rating: 1.103195114157576\n",
            "Product Name: jumper, Estimated Rating: 1.102751817264982\n",
            "Product Name: kitchen.hob, Estimated Rating: 1.0704520554553656\n",
            "RMSE Accuracy: 74.07%\n",
            "MAE Accuracy: 94.06%\n"
          ]
        }
      ]
    },
    {
      "cell_type": "code",
      "source": [
        "from surprise import Reader, Dataset, NMF, accuracy\n",
        "from surprise.model_selection import train_test_split\n",
        "\n",
        "# Map event types to numerical ratings\n",
        "event_type_mapping = {\n",
        "    'view': 1,   # Assign a numerical value for 'view'\n",
        "    'cart': 2,   # Assign a numerical value for 'cart'\n",
        "    'purchase': 3  # Assign a numerical value for 'purchase'\n",
        "}\n",
        "\n",
        "# Create a new column with numerical ratings\n",
        "df['event_type_rating'] = df['event_type'].map(event_type_mapping)\n",
        "\n",
        "# Define the columns used for content-based filtering\n",
        "content_columns = ['user_id', 'product_name', 'event_type_rating', 'brand', 'price', 'category', 'age', 'gender', 'location']\n",
        "\n",
        "# Load the preprocessed data into a Surprise dataset\n",
        "reader = Reader(rating_scale=(1, 3))  # Define the rating scale\n",
        "\n",
        "def create_custom_dataset(data, reader, columns):\n",
        "    custom_data = []\n",
        "    for _, row in data.iterrows():\n",
        "        custom_data.append((row[columns[0]], row[columns[1]], row[columns[2]]))\n",
        "    custom_dataset = Dataset.load_from_df(pd.DataFrame(custom_data, columns=['user', 'item', 'rating']), reader)\n",
        "    return custom_dataset\n",
        "\n",
        "data = create_custom_dataset(df, reader, content_columns)\n",
        "\n",
        "# Split the dataset into train and test sets\n",
        "trainset, testset = train_test_split(data, test_size=0.2, random_state=42)\n",
        "\n",
        "# Choose a content-based filtering algorithm (e.g., NMF)\n",
        "content_model = NMF()\n",
        "\n",
        "# Train the content-based model on the training data\n",
        "content_model.fit(trainset)\n",
        "\n",
        "# Make predictions on the test data\n",
        "content_predictions = content_model.test(testset)\n",
        "\n",
        "# Evaluate the content-based model (e.g., calculate RMSE, MAE, etc.)\n",
        "content_rmse = accuracy.rmse(content_predictions)\n",
        "content_mae = accuracy.mae(content_predictions)\n",
        "\n",
        "# Print the evaluation results\n",
        "print(f'Content-Based RMSE: {content_rmse:.4f}')\n",
        "print(f'Content-Based MAE: {content_mae:.4f}')\n",
        "\n",
        "# Define a function to get content-based recommendations for a user\n",
        "def content_filtering_recommendation(user_id, num_recommendations=5):\n",
        "    all_product_names = df['product_name'].unique()\n",
        "    interacted_product_names = df[(df['user_id'] == user_id) & (df['event_type'] == 'purchase')]['product_name'].values\n",
        "    candidate_product_names = [product_name for product_name in all_product_names if product_name not in interacted_product_names]\n",
        "    user_ratings = [(user_id, product_name, content_model.predict(user_id, product_name).est) for product_name in candidate_product_names]\n",
        "    user_ratings.sort(key=lambda x: x[2], reverse=True)\n",
        "    top_n_recommendations = user_ratings[:num_recommendations]\n",
        "    return top_n_recommendations\n",
        "\n",
        "# Example: Get content-based recommendations for a specific user (change user_id as needed)\n",
        "user_id_to_recommend = 520088904  # Change this to the user you want to recommend for\n",
        "content_recommendations = content_filtering_recommendation(user_id_to_recommend)\n",
        "\n",
        "# Display content-based recommendations\n",
        "print(f\"Content-Based Recommendations for User {user_id_to_recommend}:\")\n",
        "for _, product_name, estimated_rating in content_recommendations:\n",
        "    print(f\"Product Name: {product_name}, Estimated Rating: {estimated_rating:.4f}\")\n",
        "\n",
        "# Convert RMSE and MAE to percentages\n",
        "content_rmse_accuracy = 100 - (content_rmse * 100)\n",
        "content_mae_accuracy = 100 - (content_mae * 100)\n",
        "\n",
        "# Print the evaluation results as percentages\n",
        "print(f'Content-Based RMSE Accuracy: {content_rmse_accuracy:.2f}%')\n",
        "print(f'Content-Based MAE Accuracy: {content_mae_accuracy:.2f}%')\n"
      ],
      "metadata": {
        "colab": {
          "base_uri": "https://localhost:8080/"
        },
        "id": "OVEwdjlty0jv",
        "outputId": "dbce82b8-12af-4dc1-d824-1f812262df74"
      },
      "execution_count": 84,
      "outputs": [
        {
          "output_type": "stream",
          "name": "stdout",
          "text": [
            "RMSE: 0.2814\n",
            "MAE:  0.0667\n",
            "Content-Based RMSE: 0.2814\n",
            "Content-Based MAE: 0.0667\n",
            "Content-Based Recommendations for User 520088904:\n",
            "Product Name: smartphone, Estimated Rating: 1.0000\n",
            "Product Name: sewing_machine, Estimated Rating: 1.0000\n",
            "Product Name: nan, Estimated Rating: 1.0000\n",
            "Product Name: kitchen.washer, Estimated Rating: 1.0000\n",
            "Product Name: notebook, Estimated Rating: 1.0000\n",
            "Content-Based RMSE Accuracy: 71.86%\n",
            "Content-Based MAE Accuracy: 93.33%\n"
          ]
        }
      ]
    },
    {
      "cell_type": "code",
      "source": [
        "from surprise import accuracy\n",
        "\n",
        "# Example: Get hybrid recommendations for a specific user (change user_id as needed)\n",
        "user_id_to_recommend = 520088904  # Change this to the user you want to recommend for\n",
        "recommendations = hybrid_recommendation(user_id_to_recommend)\n",
        "\n",
        "# Get the test set containing user-item pairs with ground truth ratings\n",
        "testset = testset  # Replace with your actual test set\n",
        "\n",
        "# Extract the ground truth ratings from the test set for the recommended items\n",
        "ground_truth_ratings = [rating for (user, item, rating) in testset if item in [product_name for _, product_name, _ in recommendations]]\n",
        "\n",
        "# Calculate RMSE for the hybrid recommendations\n",
        "hybrid_rmse = accuracy.rmse(predictions, verbose=False)\n",
        "\n",
        "# Calculate MAE for the hybrid recommendations\n",
        "hybrid_mae = accuracy.mae(predictions, verbose=False)\n",
        "\n",
        "# Convert RMSE and MAE to percentages\n",
        "hybrid_rmse_accuracy = 100 - (hybrid_rmse * 100)\n",
        "hybrid_mae_accuracy = 100 - (hybrid_mae * 100)\n",
        "\n",
        "# Print the evaluation results as percentages\n",
        "print(f'Hybrid RMSE Accuracy: {hybrid_rmse_accuracy:.2f}%')\n",
        "print(f'Hybrid MAE Accuracy: {hybrid_mae_accuracy:.2f}%')\n",
        "\n",
        "# Display hybrid recommendations\n",
        "print(f\"Hybrid Recommendations for User {user_id_to_recommend}:\")\n",
        "for _, product_name, estimated_rating in recommendations:\n",
        "    print(f\"Product Name: {product_name}, Estimated Rating: {estimated_rating}\")\n"
      ],
      "metadata": {
        "colab": {
          "base_uri": "https://localhost:8080/"
        },
        "id": "7CXcqRb92jR7",
        "outputId": "53a6fc5d-7d74-4254-aada-3b08390aee38"
      },
      "execution_count": 85,
      "outputs": [
        {
          "output_type": "stream",
          "name": "stdout",
          "text": [
            "Hybrid RMSE Accuracy: 74.07%\n",
            "Hybrid MAE Accuracy: 94.06%\n",
            "Hybrid Recommendations for User 520088904:\n",
            "Product Name: lawn_mower, Estimated Rating: 1.185808254763631\n",
            "Product Name: shoes.sandals, Estimated Rating: 1.1816389622965215\n",
            "Product Name: tools.painting, Estimated Rating: 1.103195114157576\n",
            "Product Name: jumper, Estimated Rating: 1.102751817264982\n",
            "Product Name: kitchen.hob, Estimated Rating: 1.0704520554553656\n"
          ]
        }
      ]
    },
    {
      "cell_type": "code",
      "source": [
        "import matplotlib.pyplot as plt\n",
        "\n",
        "# Create lists to store the accuracy values in percentage\n",
        "models = ['Collaborative Filtering', 'Content-Based Filtering', 'Hybrid Model']\n",
        "rmse_values = [rmse_accuracy, content_rmse_accuracy, hybrid_rmse_accuracy]\n",
        "mae_values = [mae_accuracy, content_mae_accuracy, hybrid_mae_accuracy]\n",
        "\n",
        "# Convert RMSE and MAE values to percentages\n",
        "rmse_values_percentage = [value * 100 for value in rmse_values]\n",
        "mae_values_percentage = [value * 100 for value in mae_values]\n",
        "\n",
        "# Create bar plots for RMSE and MAE in percentage\n",
        "plt.figure(figsize=(10, 5))\n",
        "bar_width = 0.35\n",
        "index = range(len(models))\n",
        "plt.bar(index, rmse_values_percentage, bar_width, color='b', alpha=0.6, label='RMSE')\n",
        "plt.bar([i + bar_width for i in index], mae_values_percentage, bar_width, color='g', alpha=0.6, label='MAE')\n",
        "plt.xlabel('Models')\n",
        "plt.ylabel('Error (%)')\n",
        "plt.title('RMSE and MAE in Percentage for Different Models')\n",
        "plt.xticks([i + bar_width / 2 for i in index], models)\n",
        "plt.legend()\n",
        "plt.show()"
      ],
      "metadata": {
        "colab": {
          "base_uri": "https://localhost:8080/",
          "height": 487
        },
        "id": "wsBIbqbE5hSx",
        "outputId": "ff2a2256-c921-48c5-a39c-030152190b2d"
      },
      "execution_count": 86,
      "outputs": [
        {
          "output_type": "display_data",
          "data": {
            "text/plain": [
              "<Figure size 1000x500 with 1 Axes>"
            ],
            "image/png": "[encoded data removed]"
          },
          "metadata": {}
        }
      ]
    },
    {
      "cell_type": "code",
      "source": [
        "import matplotlib.pyplot as plt\n",
        "\n",
        "# Create lists to store the accuracy values in percentage\n",
        "models = ['Collaborative Filtering', 'Content-Based Filtering', 'Hybrid Model']\n",
        "rmse_values = [rmse_accuracy, content_rmse_accuracy, hybrid_rmse_accuracy]\n",
        "mae_values = [mae_accuracy, content_mae_accuracy, hybrid_mae_accuracy]\n",
        "\n",
        "# Convert RMSE and MAE values to percentages\n",
        "rmse_values_percentage = [value * 100 for value in rmse_values]\n",
        "mae_values_percentage = [value * 100 for value in mae_values]\n",
        "\n",
        "# Create bar plots for RMSE and MAE in percentage\n",
        "plt.figure(figsize=(10, 5))\n",
        "bar_width = 0.35\n",
        "index = range(len(models))\n",
        "plt.bar(index, rmse_values_percentage, bar_width, color='b', alpha=0.6, label='RMSE')\n",
        "plt.bar([i + bar_width for i in index], mae_values_percentage, bar_width, color='g', alpha=0.6, label='MAE')\n",
        "plt.xlabel('Models')\n",
        "plt.ylabel('Accuracy (%)')\n",
        "plt.title('RMSE and MAE in Percentage for Different Models')\n",
        "plt.xticks([i + bar_width / 2 for i in index], models)\n",
        "plt.legend()\n",
        "plt.show()\n"
      ],
      "metadata": {
        "colab": {
          "base_uri": "https://localhost:8080/",
          "height": 487
        },
        "id": "edHBZDCq8q6w",
        "outputId": "d6724d29-fe2f-4b74-9c4c-e3eb9505d856"
      },
      "execution_count": 87,
      "outputs": [
        {
          "output_type": "display_data",
          "data": {
            "text/plain": [
              "<Figure size 1000x500 with 1 Axes>"
            ],
            "image/png": "[encoded data removed]"
          },
          "metadata": {}
        }
      ]
    },
    {
      "cell_type": "markdown",
      "source": [
        "#solve cold start problem"
      ],
      "metadata": {
        "id": "UX1ioz6m3Gmu"
      }
    },
    {
      "cell_type": "code",
      "source": [
        "# Define a function to provide hybrid recommendations for users, considering existing, new users, and new items\n",
        "def hybrid_recommendation(user_id, num_recommendations=5):\n",
        "    # Check if the user is an existing user with historical interactions\n",
        "    if user_id in user_data['user_id'].unique():\n",
        "        # Existing user: Use collaborative filtering for personalized recommendations\n",
        "        collaborative_recommendations = collaborative_filtering_recommendation(user_id, num_recommendations)\n",
        "        return collaborative_recommendations\n",
        "\n",
        "    # Check if the user is a new user with demographic data\n",
        "    if user_id in new_users['user_id'].unique():\n",
        "        # New user: Use content-based filtering based on demographics\n",
        "        new_user_profile = new_users[new_users['user_id'] == user_id].iloc[0]\n",
        "        new_user_recommendations = recommend_for_new_user(new_user_profile['age'], new_user_profile['gender'], new_user_profile['location'], num_recommendations)\n",
        "        return new_user_recommendations\n",
        "\n",
        "    # New item: Use content-based filtering based on item characteristics\n",
        "    new_item_profile = new_items[new_items['product_name'] == user_id].iloc[0]\n",
        "    new_item_recommendations = recommend_for_new_item(new_item_profile['brand'], new_item_profile['category'], new_item_profile['price'], num_recommendations)\n",
        "    return new_item_recommendations\n",
        "\n",
        "# Example: Get hybrid recommendations for a specific user (change user_id as needed)\n",
        "user_id_to_recommend = 520088904  # Change this to the user you want to recommend for\n",
        "recommendations = hybrid_recommendation(user_id_to_recommend)\n",
        "\n",
        "# Display hybrid recommendations\n",
        "print(f\"Hybrid Recommendations for User {user_id_to_recommend}:\")\n",
        "print(recommendations)\n"
      ],
      "metadata": {
        "colab": {
          "base_uri": "https://localhost:8080/"
        },
        "id": "-5yhF5JxwOlu",
        "outputId": "6a21c338-02f1-4483-979f-92539fc04b60"
      },
      "execution_count": 88,
      "outputs": [
        {
          "output_type": "stream",
          "name": "stdout",
          "text": [
            "Hybrid Recommendations for User 520088904:\n",
            "[(520088904, 'lawn_mower', 1.185808254763631), (520088904, 'shoes.sandals', 1.1816389622965215), (520088904, 'tools.painting', 1.103195114157576), (520088904, 'jumper', 1.102751817264982), (520088904, 'kitchen.hob', 1.0704520554553656)]\n"
          ]
        }
      ]
    },
    {
      "cell_type": "code",
      "source": [
        "from surprise import SVD\n",
        "from surprise import dump\n",
        "\n",
        "# Create and train your SVD model\n",
        "model = SVD()\n",
        "# (Train your model here)\n",
        "\n",
        "# Save the model to a file\n",
        "dump.dump('recommendation-service.pkl', algo=model)\n",
        "\n",
        "# To load the model later, you can use the following code\n",
        "loaded_model = dump.load('recommendation-service.pkl')[1]\n"
      ],
      "metadata": {
        "id": "hvetjwQOAe_U"
      },
      "execution_count": 91,
      "outputs": []
    }
  ]
}